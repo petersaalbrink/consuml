{
 "cells": [
  {
   "cell_type": "code",
   "execution_count": null,
   "metadata": {},
   "outputs": [],
   "source": [
    "from pathlib import Path\n",
    "\n",
    "import pandas as pd\n",
    "import numpy as np\n",
    "\n",
    "from sklearn.cluster import KMeans\n",
    "from sklearn.decomposition import PCA\n",
    "from sklearn.manifold import TSNE\n",
    "from sklearn.metrics import silhouette_samples\n",
    "from sklearn.preprocessing import StandardScaler\n",
    "\n",
    "from matplotlib import use\n",
    "use('Qt5Agg')\n",
    "try:\n",
    "    import matplotlib.pyplot as plt\n",
    "except ImportError:\n",
    "    use('TkAgg')\n",
    "    import matplotlib.pyplot as plt\n",
    "import matplotlib.patheffects as PathEffects\n",
    "from mpl_toolkits.mplot3d import Axes3D\n",
    "from matplotlib import animation\n",
    "import seaborn as sns"
   ]
  },
  {
   "cell_type": "code",
   "execution_count": null,
   "metadata": {},
   "outputs": [],
   "source": [
    "path = Path.home() / \"Google Drive/DDMA Hackathon\""
   ]
  },
  {
   "cell_type": "code",
   "execution_count": null,
   "metadata": {},
   "outputs": [],
   "source": [
    "df = pd.read_csv(path / 'complete_hackathon_dataset.csv')"
   ]
  },
  {
   "cell_type": "markdown",
   "metadata": {},
   "source": [
    "### Prepare data"
   ]
  },
  {
   "cell_type": "code",
   "execution_count": null,
   "metadata": {},
   "outputs": [],
   "source": [
    "fields = ['id', 'indexed_price', 'build_year', 'use_surface', 'parcel_surface', 'score_totaal_2018', 'number_of_objects',\n",
    "         'huishoudens_met_kinderen', 'gemiddelde_huishoudensgrootte', '0_tot_15', '15_tot_25',\n",
    "         '25_tot_45', '45_tot_65', '65_+', 'omgevingsadressendichtheid', 'koopwoningen',\n",
    "         'build_type', 'energy_label', 'migratieachtergrond', 'elektriciteitsverbruik', 'aardgasverbruik',\n",
    "         'percentage_meergezinswoning', 'oppervlakte_land', 'personenautos_huishouden']\n",
    "cat = ['build_type', 'energy_label']\n",
    "num = [col for col in fields if col not in cat and col != 'id']"
   ]
  },
  {
   "cell_type": "code",
   "execution_count": null,
   "metadata": {},
   "outputs": [],
   "source": [
    "scalar = StandardScaler()\n",
    "df[num] = scalar.fit_transform(df[num])"
   ]
  },
  {
   "cell_type": "code",
   "execution_count": null,
   "metadata": {},
   "outputs": [],
   "source": [
    "new_df = df[fields].copy()"
   ]
  },
  {
   "cell_type": "code",
   "execution_count": null,
   "metadata": {},
   "outputs": [],
   "source": [
    "colors = {0: 'pink', 1: 'red', 2: 'green', 3: 'yellow', 4: 'black', 5: 'blue', 6: 'orange', 7: 'gray'}"
   ]
  },
  {
   "cell_type": "markdown",
   "metadata": {},
   "source": [
    "### Create clusters"
   ]
  },
  {
   "cell_type": "code",
   "execution_count": null,
   "metadata": {},
   "outputs": [],
   "source": [
    "class Clusters:\n",
    "    def __init__(self, df, categorical, n_clusters):\n",
    "        self.df = df\n",
    "        self.categorical = categorical\n",
    "        self.numerical = [col for col in self.df.columns if col not in self.categorical and col != 'id']\n",
    "        self.n_clusters = n_clusters\n",
    "    \n",
    "    def k_means_func(self):\n",
    "        self.df['clusters'] = KMeans(n_clusters=self.n_clusters).fit(np.array(self.df[self.numerical])).labels_\n",
    "        return self\n",
    "    \n",
    "    def k_prototype_func(self):\n",
    "        self.df = self.df[['id', *self.categorical, *self.numerical]].dropna()\n",
    "        self.df['clusters'] = KPrototypes(n_clusters=self.n_clusters, init='Cao'). \\\n",
    "            fit_predict(self.df.drop(columns='id'), categorical=list(range(len(self.categorical))))\n",
    "        return self"
   ]
  },
  {
   "cell_type": "code",
   "execution_count": null,
   "metadata": {},
   "outputs": [],
   "source": [
    "cluster = Clusters(df=new_df, categorical=cat, n_clusters=len(colors.keys()))"
   ]
  },
  {
   "cell_type": "markdown",
   "metadata": {},
   "source": [
    "# K-Means clustering"
   ]
  },
  {
   "cell_type": "code",
   "execution_count": null,
   "metadata": {},
   "outputs": [],
   "source": [
    "new_df = cluster.k_means_func().df"
   ]
  },
  {
   "cell_type": "markdown",
   "metadata": {},
   "source": [
    "## principal component analysis vs t-Distributed Stochastic Neighbor Embedding\n",
    "\n",
    "### Create visualization function"
   ]
  },
  {
   "cell_type": "code",
   "execution_count": null,
   "metadata": {},
   "outputs": [],
   "source": [
    "def plot3D(x, clusters, colors, gif_name):\n",
    "  \n",
    "    fig = plt.figure(figsize=(10, 10))\n",
    "    ax = fig.add_subplot(111, projection='3d')\n",
    "    ax.scatter(xs=x[:,0], ys=x[:,1], zs=x[:,2], s=10, c=clusters.map(colors))\n",
    "    ax.axis('off')\n",
    "    ax.axis('tight')\n",
    "    \n",
    "    def rotate(angle):\n",
    "        ax.view_init(azim=angle)\n",
    "\n",
    "    angle = 3\n",
    "    ani = animation.FuncAnimation(fig, rotate, frames=np.arange(0, 360, angle), interval=50)\n",
    "    ani.save(gif_name, writer=animation.PillowWriter(fps=10))"
   ]
  },
  {
   "cell_type": "markdown",
   "metadata": {},
   "source": [
    "### PCA"
   ]
  },
  {
   "cell_type": "code",
   "execution_count": null,
   "metadata": {},
   "outputs": [],
   "source": [
    "pca = PCA(n_components=3)\n",
    "pca_result = pca.fit_transform(new_df[num].sample(10_000, random_state=1))\n",
    "\n",
    "pca_df = pd.DataFrame(columns=['pca1','pca2', 'pca3'])\n",
    "\n",
    "pca_df['pca1'] = pca_result[:,0]\n",
    "pca_df['pca2'] = pca_result[:,1]\n",
    "pca_df['pca3'] = pca_result[:,2]\n",
    "\n",
    "top_two_comp = pca_df[['pca1','pca2', 'pca3']] # taking first and second principal component"
   ]
  },
  {
   "cell_type": "code",
   "execution_count": null,
   "metadata": {},
   "outputs": [],
   "source": [
    "plot3D(top_two_comp.values, new_df.sample(10_000, random_state=1)['clusters'], colors, '../output/pca_kmeans.gif') # Visualizing the PCA output"
   ]
  },
  {
   "cell_type": "markdown",
   "metadata": {},
   "source": [
    "### T-SNE"
   ]
  },
  {
   "cell_type": "code",
   "execution_count": null,
   "metadata": {},
   "outputs": [],
   "source": [
    "tsne = TSNE(n_components=3).fit_transform(new_df[num].sample(10_000, random_state=1))"
   ]
  },
  {
   "cell_type": "code",
   "execution_count": null,
   "metadata": {},
   "outputs": [],
   "source": [
    "plot3D(tsne, new_df.sample(10_000, random_state=1)['clusters'], colors, '../output/tsne_kmeans.gif')"
   ]
  },
  {
   "cell_type": "markdown",
   "metadata": {},
   "source": [
    "## Model evaluation"
   ]
  },
  {
   "cell_type": "code",
   "execution_count": null,
   "metadata": {},
   "outputs": [],
   "source": [
    "silhouette_per_sample = silhouette_sample(new_df[num], new_df['clusters'])\n",
    "silhouette_avg = np.mean(silhouette_per_sample)\n",
    "silhouette_avg"
   ]
  },
  {
   "cell_type": "code",
   "execution_count": null,
   "metadata": {},
   "outputs": [],
   "source": [
    "new_df['clusters'] = new_df['clusters'].map(colors)\n",
    "new_df.to_csv(path / \"clusters_netherlands_kmeans.csv\", index=False)"
   ]
  }
 ],
 "metadata": {
  "kernelspec": {
   "display_name": "Python 3",
   "language": "python",
   "name": "python3"
  },
  "language_info": {
   "codemirror_mode": {
    "name": "ipython",
    "version": 3
   },
   "file_extension": ".py",
   "mimetype": "text/x-python",
   "name": "python",
   "nbconvert_exporter": "python",
   "pygments_lexer": "ipython3",
   "version": "3.7.6"
  }
 },
 "nbformat": 4,
 "nbformat_minor": 4
}
