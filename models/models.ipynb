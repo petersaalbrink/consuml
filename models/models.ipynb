{
 "cells": [
  {
   "cell_type": "code",
   "execution_count": 3,
   "metadata": {},
   "outputs": [],
   "source": [
    "%matplotlib qt\n",
    "\n",
    "import pandas as pd\n",
    "import numpy as np\n",
    "\n",
    "from sklearn.preprocessing import LabelEncoder, Normalizer, StandardScaler\n",
    "\n",
    "from kmodes.kprototypes import KPrototypes\n",
    "from sklearn.cluster import KMeans\n",
    "from sklearn.decomposition import PCA\n",
    "from sklearn.manifold import TSNE\n",
    "\n",
    "import matplotlib.pyplot as plt\n",
    "import matplotlib.patheffects as PathEffects\n",
    "from mpl_toolkits.mplot3d import Axes3D\n",
    "from matplotlib import animation\n",
    "import seaborn as sns"
   ]
  },
  {
   "cell_type": "code",
   "execution_count": 2,
   "metadata": {},
   "outputs": [],
   "source": [
    "df = pd.read_csv(r'C:\\Users\\TSmeitink\\Google Drive\\DDMA Hackathon\\complete_hackathon_dataset.csv')"
   ]
  },
  {
   "cell_type": "markdown",
   "metadata": {},
   "source": [
    "## principal component analysis vs t-Distributed Stochastic Neighbor Embedding"
   ]
  },
  {
   "cell_type": "markdown",
   "metadata": {},
   "source": [
    "### Create visualization function"
   ]
  },
  {
   "cell_type": "code",
   "execution_count": 4,
   "metadata": {},
   "outputs": [],
   "source": [
    "def plot3D(x, clusters, colors, gif_name):\n",
    "  \n",
    "    fig = plt.figure(figsize=(10, 10))\n",
    "    ax = fig.add_subplot(111, projection='3d')\n",
    "    ax.scatter(xs=x[:,0], ys=x[:,1], zs=x[:,2], s=10, c=clusters.map(colors))\n",
    "    ax.axis('off')\n",
    "    ax.axis('tight')\n",
    "    \n",
    "    def rotate(angle):\n",
    "        ax.view_init(azim=angle)\n",
    "\n",
    "    angle = 3\n",
    "    ani = animation.FuncAnimation(fig, rotate, frames=np.arange(0, 360, angle), interval=50)\n",
    "    ani.save(gif_name, writer=animation.PillowWriter(fps=10))"
   ]
  },
  {
   "cell_type": "markdown",
   "metadata": {},
   "source": [
    "### Prepare data"
   ]
  },
  {
   "cell_type": "code",
   "execution_count": 8,
   "metadata": {},
   "outputs": [],
   "source": [
    "fields = ['id', 'indexed_price', 'build_year', 'use_surface', 'parcel_surface', 'score_totaal_2018', 'number_of_objects',\n",
    "         'huishoudens_met_kinderen', 'gemiddelde_huishoudensgrootte', '0_tot_15', '15_tot_25',\n",
    "         '25_tot_45', '45_tot_65', '65_+', 'omgevingsadressendichtheid', 'koopwoningen',\n",
    "         'build_type', 'energy_label', 'migratieachtergrond', 'elektriciteitsverbruik', 'aardgasverbruik',\n",
    "         'percentage_meergezinswoning', 'oppervlakte_land', 'personenautos_huishouden']\n",
    "cat = ['build_type', 'energy_label']\n",
    "num = [col for col in fields if col not in cat and col != 'id']"
   ]
  },
  {
   "cell_type": "code",
   "execution_count": 6,
   "metadata": {},
   "outputs": [],
   "source": [
    "scalar = StandardScaler()\n",
    "df[num] = scalar.fit_transform(df[num])"
   ]
  },
  {
   "cell_type": "code",
   "execution_count": null,
   "metadata": {},
   "outputs": [],
   "source": [
    "new_df = df[fields].copy()"
   ]
  },
  {
   "cell_type": "code",
   "execution_count": 9,
   "metadata": {},
   "outputs": [],
   "source": [
    "colors = {0: 'blue', 1: 'red', 2: 'green', 3: 'yellow', 4: 'black', 5: 'pink', 6: 'orange', 7: 'gray'}"
   ]
  },
  {
   "cell_type": "markdown",
   "metadata": {},
   "source": [
    "### Create clusters"
   ]
  },
  {
   "cell_type": "code",
   "execution_count": 10,
   "metadata": {},
   "outputs": [],
   "source": [
    "class Clusters:\n",
    "    def __init__(self, df, categorical, n_clusters):\n",
    "        self.df = df\n",
    "        self.categorical = categorical\n",
    "        self.numerical = [col for col in self.df.columns if col not in self.categorical and col != 'id']\n",
    "        self.n_clusters = n_clusters\n",
    "    \n",
    "    def k_means_func(self):\n",
    "        self.df['clusters'] = KMeans(n_clusters=self.n_clusters).fit(np.array(self.df[self.numerical])).labels_\n",
    "        return self\n",
    "    \n",
    "    def k_prototype_func(self):\n",
    "        self.df = self.df[['id', *self.categorical, *self.numerical]].dropna()\n",
    "        self.df['clusters'] = KPrototypes(n_clusters=self.n_clusters, init='Cao'). \\\n",
    "            fit_predict(self.df.drop(columns='id'), categorical=list(range(len(self.categorical))))\n",
    "        return self"
   ]
  },
  {
   "cell_type": "code",
   "execution_count": 11,
   "metadata": {},
   "outputs": [],
   "source": [
    "cluster = Clusters(df=new_df, categorical=cat, n_clusters=len(colors.keys()))"
   ]
  },
  {
   "cell_type": "markdown",
   "metadata": {},
   "source": [
    "# K-Means clustering"
   ]
  },
  {
   "cell_type": "code",
   "execution_count": 11,
   "metadata": {},
   "outputs": [],
   "source": [
    "new_df = cluster.k_means_func().df"
   ]
  },
  {
   "cell_type": "code",
   "execution_count": 12,
   "metadata": {},
   "outputs": [
    {
     "data": {
      "text/plain": [
       "1    68364\n",
       "7    37019\n",
       "3    20268\n",
       "2    18651\n",
       "5    16752\n",
       "0    11250\n",
       "6     7475\n",
       "4     6191\n",
       "Name: clusters, dtype: int64"
      ]
     },
     "execution_count": 12,
     "metadata": {},
     "output_type": "execute_result"
    }
   ],
   "source": [
    "new_df['clusters'].value_counts()"
   ]
  },
  {
   "cell_type": "code",
   "execution_count": 13,
   "metadata": {},
   "outputs": [
    {
     "data": {
      "text/html": [
       "<div>\n",
       "<style scoped>\n",
       "    .dataframe tbody tr th:only-of-type {\n",
       "        vertical-align: middle;\n",
       "    }\n",
       "\n",
       "    .dataframe tbody tr th {\n",
       "        vertical-align: top;\n",
       "    }\n",
       "\n",
       "    .dataframe thead th {\n",
       "        text-align: right;\n",
       "    }\n",
       "</style>\n",
       "<table border=\"1\" class=\"dataframe\">\n",
       "  <thead>\n",
       "    <tr style=\"text-align: right;\">\n",
       "      <th></th>\n",
       "      <th>id</th>\n",
       "      <th>indexed_price</th>\n",
       "      <th>build_year</th>\n",
       "      <th>use_surface</th>\n",
       "      <th>parcel_surface</th>\n",
       "      <th>score_totaal_2018</th>\n",
       "      <th>number_of_objects</th>\n",
       "      <th>huishoudens_met_kinderen</th>\n",
       "      <th>gemiddelde_huishoudensgrootte</th>\n",
       "      <th>0_tot_15</th>\n",
       "      <th>...</th>\n",
       "      <th>koopwoningen</th>\n",
       "      <th>build_type</th>\n",
       "      <th>energy_label</th>\n",
       "      <th>migratieachtergrond</th>\n",
       "      <th>elektriciteitsverbruik</th>\n",
       "      <th>aardgasverbruik</th>\n",
       "      <th>percentage_meergezinswoning</th>\n",
       "      <th>oppervlakte_land</th>\n",
       "      <th>personenautos_huishouden</th>\n",
       "      <th>clusters</th>\n",
       "    </tr>\n",
       "  </thead>\n",
       "  <tbody>\n",
       "    <tr>\n",
       "      <th>0</th>\n",
       "      <td>3595</td>\n",
       "      <td>0.396900</td>\n",
       "      <td>-1.746591</td>\n",
       "      <td>3.229399</td>\n",
       "      <td>-0.139897</td>\n",
       "      <td>-0.332839</td>\n",
       "      <td>-0.27028</td>\n",
       "      <td>-1.350204</td>\n",
       "      <td>-1.350984</td>\n",
       "      <td>-1.280426</td>\n",
       "      <td>...</td>\n",
       "      <td>-1.077246</td>\n",
       "      <td>Rijwoning hoek</td>\n",
       "      <td>G</td>\n",
       "      <td>-0.804508</td>\n",
       "      <td>-1.087831</td>\n",
       "      <td>0.096262</td>\n",
       "      <td>0.444671</td>\n",
       "      <td>-0.180873</td>\n",
       "      <td>-0.691604</td>\n",
       "      <td>2</td>\n",
       "    </tr>\n",
       "    <tr>\n",
       "      <th>1</th>\n",
       "      <td>8647</td>\n",
       "      <td>-0.769353</td>\n",
       "      <td>-2.032465</td>\n",
       "      <td>-0.784834</td>\n",
       "      <td>-0.485777</td>\n",
       "      <td>-0.332839</td>\n",
       "      <td>-0.27028</td>\n",
       "      <td>-1.350204</td>\n",
       "      <td>-1.350984</td>\n",
       "      <td>-1.280426</td>\n",
       "      <td>...</td>\n",
       "      <td>-1.077246</td>\n",
       "      <td>Vrijstaande woning</td>\n",
       "      <td>G</td>\n",
       "      <td>-0.804508</td>\n",
       "      <td>-1.087831</td>\n",
       "      <td>0.096262</td>\n",
       "      <td>0.444671</td>\n",
       "      <td>-0.180873</td>\n",
       "      <td>-0.691604</td>\n",
       "      <td>2</td>\n",
       "    </tr>\n",
       "    <tr>\n",
       "      <th>2</th>\n",
       "      <td>8648</td>\n",
       "      <td>-0.079121</td>\n",
       "      <td>-1.226822</td>\n",
       "      <td>2.481292</td>\n",
       "      <td>0.446028</td>\n",
       "      <td>-0.332839</td>\n",
       "      <td>-0.27028</td>\n",
       "      <td>-1.350204</td>\n",
       "      <td>-1.350984</td>\n",
       "      <td>-1.280426</td>\n",
       "      <td>...</td>\n",
       "      <td>-1.077246</td>\n",
       "      <td>Vrijstaande woning</td>\n",
       "      <td>G</td>\n",
       "      <td>-0.804508</td>\n",
       "      <td>-1.087831</td>\n",
       "      <td>0.096262</td>\n",
       "      <td>0.444671</td>\n",
       "      <td>-0.180873</td>\n",
       "      <td>-0.691604</td>\n",
       "      <td>2</td>\n",
       "    </tr>\n",
       "    <tr>\n",
       "      <th>3</th>\n",
       "      <td>11133</td>\n",
       "      <td>-1.150170</td>\n",
       "      <td>-2.110430</td>\n",
       "      <td>3.941013</td>\n",
       "      <td>-0.039431</td>\n",
       "      <td>-0.332839</td>\n",
       "      <td>-0.27028</td>\n",
       "      <td>-1.350204</td>\n",
       "      <td>-1.350984</td>\n",
       "      <td>-1.280426</td>\n",
       "      <td>...</td>\n",
       "      <td>-1.077246</td>\n",
       "      <td>Vrijstaande woning</td>\n",
       "      <td>G</td>\n",
       "      <td>-0.804508</td>\n",
       "      <td>-1.087831</td>\n",
       "      <td>0.096262</td>\n",
       "      <td>0.444671</td>\n",
       "      <td>-0.180873</td>\n",
       "      <td>-0.691604</td>\n",
       "      <td>2</td>\n",
       "    </tr>\n",
       "    <tr>\n",
       "      <th>4</th>\n",
       "      <td>11134</td>\n",
       "      <td>-1.150170</td>\n",
       "      <td>1.372025</td>\n",
       "      <td>0.492422</td>\n",
       "      <td>-0.072408</td>\n",
       "      <td>-0.332839</td>\n",
       "      <td>-0.27028</td>\n",
       "      <td>-1.350204</td>\n",
       "      <td>-1.350984</td>\n",
       "      <td>-1.280426</td>\n",
       "      <td>...</td>\n",
       "      <td>-1.077246</td>\n",
       "      <td>Vrijstaande woning</td>\n",
       "      <td>G</td>\n",
       "      <td>-0.804508</td>\n",
       "      <td>-1.087831</td>\n",
       "      <td>0.096262</td>\n",
       "      <td>0.444671</td>\n",
       "      <td>-0.180873</td>\n",
       "      <td>-0.691604</td>\n",
       "      <td>2</td>\n",
       "    </tr>\n",
       "  </tbody>\n",
       "</table>\n",
       "<p>5 rows × 25 columns</p>\n",
       "</div>"
      ],
      "text/plain": [
       "      id  indexed_price  build_year  use_surface  parcel_surface  \\\n",
       "0   3595       0.396900   -1.746591     3.229399       -0.139897   \n",
       "1   8647      -0.769353   -2.032465    -0.784834       -0.485777   \n",
       "2   8648      -0.079121   -1.226822     2.481292        0.446028   \n",
       "3  11133      -1.150170   -2.110430     3.941013       -0.039431   \n",
       "4  11134      -1.150170    1.372025     0.492422       -0.072408   \n",
       "\n",
       "   score_totaal_2018  number_of_objects  huishoudens_met_kinderen  \\\n",
       "0          -0.332839           -0.27028                 -1.350204   \n",
       "1          -0.332839           -0.27028                 -1.350204   \n",
       "2          -0.332839           -0.27028                 -1.350204   \n",
       "3          -0.332839           -0.27028                 -1.350204   \n",
       "4          -0.332839           -0.27028                 -1.350204   \n",
       "\n",
       "   gemiddelde_huishoudensgrootte  0_tot_15  ...  koopwoningen  \\\n",
       "0                      -1.350984 -1.280426  ...     -1.077246   \n",
       "1                      -1.350984 -1.280426  ...     -1.077246   \n",
       "2                      -1.350984 -1.280426  ...     -1.077246   \n",
       "3                      -1.350984 -1.280426  ...     -1.077246   \n",
       "4                      -1.350984 -1.280426  ...     -1.077246   \n",
       "\n",
       "           build_type  energy_label  migratieachtergrond  \\\n",
       "0      Rijwoning hoek             G            -0.804508   \n",
       "1  Vrijstaande woning             G            -0.804508   \n",
       "2  Vrijstaande woning             G            -0.804508   \n",
       "3  Vrijstaande woning             G            -0.804508   \n",
       "4  Vrijstaande woning             G            -0.804508   \n",
       "\n",
       "   elektriciteitsverbruik  aardgasverbruik percentage_meergezinswoning  \\\n",
       "0               -1.087831         0.096262                    0.444671   \n",
       "1               -1.087831         0.096262                    0.444671   \n",
       "2               -1.087831         0.096262                    0.444671   \n",
       "3               -1.087831         0.096262                    0.444671   \n",
       "4               -1.087831         0.096262                    0.444671   \n",
       "\n",
       "  oppervlakte_land  personenautos_huishouden  clusters  \n",
       "0        -0.180873                 -0.691604         2  \n",
       "1        -0.180873                 -0.691604         2  \n",
       "2        -0.180873                 -0.691604         2  \n",
       "3        -0.180873                 -0.691604         2  \n",
       "4        -0.180873                 -0.691604         2  \n",
       "\n",
       "[5 rows x 25 columns]"
      ]
     },
     "execution_count": 13,
     "metadata": {},
     "output_type": "execute_result"
    }
   ],
   "source": [
    "new_df.head()"
   ]
  },
  {
   "cell_type": "markdown",
   "metadata": {},
   "source": [
    "### PCA"
   ]
  },
  {
   "cell_type": "code",
   "execution_count": null,
   "metadata": {},
   "outputs": [],
   "source": [
    "pca = PCA(n_components=3)\n",
    "pca_result = pca.fit_transform(new_df[num].sample(10_000, random_state=1))\n",
    "\n",
    "pca_df = pd.DataFrame(columns=['pca1','pca2', 'pca3'])\n",
    "\n",
    "pca_df['pca1'] = pca_result[:,0]\n",
    "pca_df['pca2'] = pca_result[:,1]\n",
    "pca_df['pca3'] = pca_result[:,2]\n",
    "\n",
    "top_two_comp = pca_df[['pca1','pca2', 'pca3']] # taking first and second principal component"
   ]
  },
  {
   "cell_type": "code",
   "execution_count": 16,
   "metadata": {},
   "outputs": [],
   "source": [
    "plot3D(top_two_comp.values, new_df.sample(10_000, random_state=1)['clusters'], colors, '../output/pca_kmeans.gif') # Visualizing the PCA output"
   ]
  },
  {
   "cell_type": "markdown",
   "metadata": {},
   "source": [
    "### T-SNE"
   ]
  },
  {
   "cell_type": "code",
   "execution_count": 5,
   "metadata": {},
   "outputs": [],
   "source": [
    "new_df = pd.read_csv(r'C:\\Users\\TSmeitink\\Google Drive\\DDMA Hackathon\\clusters_netherlands_kmeans.csv')"
   ]
  },
  {
   "cell_type": "code",
   "execution_count": 12,
   "metadata": {},
   "outputs": [],
   "source": [
    "new_df['clusters'] = new_df['clusters'].map({v: k for k, v in colors.items()})"
   ]
  },
  {
   "cell_type": "code",
   "execution_count": 14,
   "metadata": {},
   "outputs": [],
   "source": [
    "tsne = TSNE(n_components=3).fit_transform(new_df[num].sample(10_000, random_state=1))"
   ]
  },
  {
   "cell_type": "code",
   "execution_count": 45,
   "metadata": {},
   "outputs": [],
   "source": [
    "plot3D(tsne, new_df.sample(10_000, random_state=1)['clusters'], colors, '../output/tsne_kmeans.gif')"
   ]
  },
  {
   "cell_type": "markdown",
   "metadata": {},
   "source": [
    "# K-Prototypes (a mix of numerical and categorical data)"
   ]
  },
  {
   "cell_type": "code",
   "execution_count": null,
   "metadata": {},
   "outputs": [],
   "source": [
    "new_df = cluster.k_prototype_func().df"
   ]
  },
  {
   "cell_type": "code",
   "execution_count": 10,
   "metadata": {},
   "outputs": [
    {
     "data": {
      "text/plain": [
       "4    4214\n",
       "1    2567\n",
       "2    1398\n",
       "0    1102\n",
       "3     719\n",
       "Name: clusters, dtype: int64"
      ]
     },
     "execution_count": 10,
     "metadata": {},
     "output_type": "execute_result"
    }
   ],
   "source": [
    "new_df['clusters'].value_counts()"
   ]
  },
  {
   "cell_type": "markdown",
   "metadata": {},
   "source": [
    "### PCA"
   ]
  },
  {
   "cell_type": "code",
   "execution_count": 24,
   "metadata": {},
   "outputs": [
    {
     "name": "stdout",
     "output_type": "stream",
     "text": [
      "build_type                       9801\n",
      "energy_label                     9801\n",
      "indexed_price                    9801\n",
      "build_year                       9801\n",
      "use_surface                      9801\n",
      "parcel_surface                   9801\n",
      "score_totaal_2018                9801\n",
      "number_of_objects                9801\n",
      "huishoudens_met_kinderen         9801\n",
      "gemiddelde_huishoudensgrootte    9801\n",
      "0_tot_15                         9801\n",
      "15_tot_25                        9801\n",
      "25_tot_45                        9801\n",
      "45_tot_65                        9801\n",
      "65_+                             9801\n",
      "omgevingsadressendichtheid       9801\n",
      "koopwoningen                     9801\n",
      "migratieachtergrond              9801\n",
      "elektriciteitsverbruik           9801\n",
      "aardgasverbruik                  9801\n",
      "percentage_meergezinswoning      9801\n",
      "oppervlakte_land                 9801\n",
      "personenautos_huishouden         9801\n",
      "clusters                         9801\n",
      "dtype: int64\n"
     ]
    }
   ],
   "source": [
    "pca = PCA(n_components=3)\n",
    "pca_result = pca.fit_transform(new_df[num])\n",
    "\n",
    "pca_df = pd.DataFrame(columns=['pca1','pca2', 'pca3'])\n",
    "\n",
    "pca_df['pca1'] = pca_result[:,0]\n",
    "pca_df['pca2'] = pca_result[:,1]\n",
    "pca_df['pca3'] = pca_result[:,2]\n",
    "\n",
    "top_two_comp = pca_df[['pca1','pca2', 'pca3']] # taking first and second principal component\n",
    "\n",
    "plot3D(top_two_comp.values, new_df['clusters'], colors, 'pca_kprototype.gif') # Visualizing the PCA output"
   ]
  },
  {
   "cell_type": "markdown",
   "metadata": {},
   "source": [
    "## T-SNE"
   ]
  },
  {
   "cell_type": "code",
   "execution_count": 25,
   "metadata": {},
   "outputs": [],
   "source": [
    "tsne = TSNE(n_components=3).fit_transform(new_df[num])"
   ]
  },
  {
   "cell_type": "code",
   "execution_count": 26,
   "metadata": {},
   "outputs": [],
   "source": [
    "plot3D(tsne, new_df['clusters'], colors, 'tsne_kprototype.gif')\n",
    "plt.show();"
   ]
  },
  {
   "cell_type": "code",
   "execution_count": 18,
   "metadata": {},
   "outputs": [],
   "source": [
    "new_df['clusters'] = new_df['clusters'].map(colors)\n",
    "new_df.to_csv(r'C:\\Users\\TSmeitink\\Google Drive\\DDMA Hackathon\\clusters_netherlands_kmeans.csv', index=False)"
   ]
  }
 ],
 "metadata": {
  "kernelspec": {
   "display_name": "Python 3",
   "language": "python",
   "name": "python3"
  },
  "language_info": {
   "codemirror_mode": {
    "name": "ipython",
    "version": 3
   },
   "file_extension": ".py",
   "mimetype": "text/x-python",
   "name": "python",
   "nbconvert_exporter": "python",
   "pygments_lexer": "ipython3",
   "version": "3.7.3"
  }
 },
 "nbformat": 4,
 "nbformat_minor": 2
}
