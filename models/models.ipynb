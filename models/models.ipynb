{
 "cells": [
  {
   "cell_type": "code",
   "execution_count": 1,
   "metadata": {},
   "outputs": [],
   "source": [
    "%matplotlib qt\n",
    "\n",
    "import pandas as pd\n",
    "import numpy as np\n",
    "\n",
    "from sklearn.preprocessing import LabelEncoder, Normalizer, StandardScaler\n",
    "\n",
    "from kmodes.kprototypes import KPrototypes\n",
    "from sklearn.cluster import KMeans\n",
    "from sklearn.decomposition import PCA\n",
    "from sklearn.manifold import TSNE\n",
    "\n",
    "import matplotlib.pyplot as plt\n",
    "import matplotlib.patheffects as PathEffects\n",
    "from mpl_toolkits.mplot3d import Axes3D\n",
    "from matplotlib import animation\n",
    "import seaborn as sns"
   ]
  },
  {
   "cell_type": "code",
   "execution_count": 2,
   "metadata": {},
   "outputs": [],
   "source": [
    "df = pd.read_csv(r'C:\\Users\\TSmeitink\\Google Drive\\DDMA Hackathon\\complete_hackathon_dataset.csv').sample(10_000)"
   ]
  },
  {
   "cell_type": "code",
   "execution_count": 3,
   "metadata": {},
   "outputs": [
    {
     "data": {
      "text/html": [
       "<div>\n",
       "<style scoped>\n",
       "    .dataframe tbody tr th:only-of-type {\n",
       "        vertical-align: middle;\n",
       "    }\n",
       "\n",
       "    .dataframe tbody tr th {\n",
       "        vertical-align: top;\n",
       "    }\n",
       "\n",
       "    .dataframe thead th {\n",
       "        text-align: right;\n",
       "    }\n",
       "</style>\n",
       "<table border=\"1\" class=\"dataframe\">\n",
       "  <thead>\n",
       "    <tr style=\"text-align: right;\">\n",
       "      <th></th>\n",
       "      <th>gwb_code_10</th>\n",
       "      <th>gwb_code_8</th>\n",
       "      <th>regio</th>\n",
       "      <th>gm_naam</th>\n",
       "      <th>gwb_code</th>\n",
       "      <th>aantal_inwoners</th>\n",
       "      <th>mannen</th>\n",
       "      <th>vrouwen</th>\n",
       "      <th>0_tot_15</th>\n",
       "      <th>15_tot_25</th>\n",
       "      <th>...</th>\n",
       "      <th>energy_label</th>\n",
       "      <th>number_of_objects</th>\n",
       "      <th>buurt2019</th>\n",
       "      <th>gemeente2019</th>\n",
       "      <th>pc5</th>\n",
       "      <th>id</th>\n",
       "      <th>mun_code</th>\n",
       "      <th>buurt_code</th>\n",
       "      <th>indexed_price</th>\n",
       "      <th>indexed_date</th>\n",
       "    </tr>\n",
       "  </thead>\n",
       "  <tbody>\n",
       "    <tr>\n",
       "      <th>149581</th>\n",
       "      <td>9570302</td>\n",
       "      <td>9570302</td>\n",
       "      <td>Tegelarijeveld-Broekhin</td>\n",
       "      <td>Roermond</td>\n",
       "      <td>BU09570302</td>\n",
       "      <td>-0.243506</td>\n",
       "      <td>0.497340</td>\n",
       "      <td>0.500000</td>\n",
       "      <td>0.132979</td>\n",
       "      <td>0.106383</td>\n",
       "      <td>...</td>\n",
       "      <td>D</td>\n",
       "      <td>0.0</td>\n",
       "      <td>9570302</td>\n",
       "      <td>957</td>\n",
       "      <td>6042X</td>\n",
       "      <td>144266</td>\n",
       "      <td>957</td>\n",
       "      <td>9570302</td>\n",
       "      <td>-0.560205</td>\n",
       "      <td>2019-Q3</td>\n",
       "    </tr>\n",
       "    <tr>\n",
       "      <th>13445</th>\n",
       "      <td>1185006</td>\n",
       "      <td>1185006</td>\n",
       "      <td>Venesluis</td>\n",
       "      <td>Hoogeveen</td>\n",
       "      <td>BU01185006</td>\n",
       "      <td>-0.253247</td>\n",
       "      <td>0.483784</td>\n",
       "      <td>0.516216</td>\n",
       "      <td>0.105405</td>\n",
       "      <td>0.097297</td>\n",
       "      <td>...</td>\n",
       "      <td>D</td>\n",
       "      <td>0.0</td>\n",
       "      <td>1185006</td>\n",
       "      <td>118</td>\n",
       "      <td>7907A</td>\n",
       "      <td>68349</td>\n",
       "      <td>118</td>\n",
       "      <td>1185006</td>\n",
       "      <td>0.183122</td>\n",
       "      <td>2019-Q3</td>\n",
       "    </tr>\n",
       "    <tr>\n",
       "      <th>76750</th>\n",
       "      <td>4000600</td>\n",
       "      <td>4000600</td>\n",
       "      <td>Julianadorp-Oost</td>\n",
       "      <td>Den Helder</td>\n",
       "      <td>BU04000600</td>\n",
       "      <td>-0.547078</td>\n",
       "      <td>0.444444</td>\n",
       "      <td>0.550265</td>\n",
       "      <td>0.142857</td>\n",
       "      <td>0.068783</td>\n",
       "      <td>...</td>\n",
       "      <td>B</td>\n",
       "      <td>24.0</td>\n",
       "      <td>4000600</td>\n",
       "      <td>400</td>\n",
       "      <td>1787A</td>\n",
       "      <td>135542</td>\n",
       "      <td>400</td>\n",
       "      <td>4000600</td>\n",
       "      <td>-0.733479</td>\n",
       "      <td>2019-Q3</td>\n",
       "    </tr>\n",
       "    <tr>\n",
       "      <th>18024</th>\n",
       "      <td>1530202</td>\n",
       "      <td>1530202</td>\n",
       "      <td>Pathmos</td>\n",
       "      <td>Enschede</td>\n",
       "      <td>BU01530202</td>\n",
       "      <td>-0.185065</td>\n",
       "      <td>0.497573</td>\n",
       "      <td>0.502427</td>\n",
       "      <td>0.177184</td>\n",
       "      <td>0.123786</td>\n",
       "      <td>...</td>\n",
       "      <td>F</td>\n",
       "      <td>0.0</td>\n",
       "      <td>1530202</td>\n",
       "      <td>153</td>\n",
       "      <td>7545T</td>\n",
       "      <td>118424</td>\n",
       "      <td>153</td>\n",
       "      <td>1530202</td>\n",
       "      <td>-0.288062</td>\n",
       "      <td>2019-Q3</td>\n",
       "    </tr>\n",
       "    <tr>\n",
       "      <th>127738</th>\n",
       "      <td>7580200</td>\n",
       "      <td>7580200</td>\n",
       "      <td>Brabantpark</td>\n",
       "      <td>Breda</td>\n",
       "      <td>BU07580200</td>\n",
       "      <td>2.423701</td>\n",
       "      <td>0.470530</td>\n",
       "      <td>0.529470</td>\n",
       "      <td>0.132244</td>\n",
       "      <td>0.189203</td>\n",
       "      <td>...</td>\n",
       "      <td>D</td>\n",
       "      <td>3.0</td>\n",
       "      <td>7580200</td>\n",
       "      <td>758</td>\n",
       "      <td>4817J</td>\n",
       "      <td>149179</td>\n",
       "      <td>758</td>\n",
       "      <td>7580200</td>\n",
       "      <td>-0.253086</td>\n",
       "      <td>2019-Q3</td>\n",
       "    </tr>\n",
       "  </tbody>\n",
       "</table>\n",
       "<p>5 rows × 91 columns</p>\n",
       "</div>"
      ],
      "text/plain": [
       "        gwb_code_10  gwb_code_8                    regio     gm_naam  \\\n",
       "149581      9570302     9570302  Tegelarijeveld-Broekhin    Roermond   \n",
       "13445       1185006     1185006                Venesluis   Hoogeveen   \n",
       "76750       4000600     4000600         Julianadorp-Oost  Den Helder   \n",
       "18024       1530202     1530202                  Pathmos    Enschede   \n",
       "127738      7580200     7580200              Brabantpark       Breda   \n",
       "\n",
       "          gwb_code  aantal_inwoners    mannen   vrouwen  0_tot_15  15_tot_25  \\\n",
       "149581  BU09570302        -0.243506  0.497340  0.500000  0.132979   0.106383   \n",
       "13445   BU01185006        -0.253247  0.483784  0.516216  0.105405   0.097297   \n",
       "76750   BU04000600        -0.547078  0.444444  0.550265  0.142857   0.068783   \n",
       "18024   BU01530202        -0.185065  0.497573  0.502427  0.177184   0.123786   \n",
       "127738  BU07580200         2.423701  0.470530  0.529470  0.132244   0.189203   \n",
       "\n",
       "        ...  energy_label  number_of_objects  buurt2019  gemeente2019    pc5  \\\n",
       "149581  ...             D                0.0    9570302           957  6042X   \n",
       "13445   ...             D                0.0    1185006           118  7907A   \n",
       "76750   ...             B               24.0    4000600           400  1787A   \n",
       "18024   ...             F                0.0    1530202           153  7545T   \n",
       "127738  ...             D                3.0    7580200           758  4817J   \n",
       "\n",
       "            id  mun_code  buurt_code  indexed_price  indexed_date  \n",
       "149581  144266       957     9570302      -0.560205       2019-Q3  \n",
       "13445    68349       118     1185006       0.183122       2019-Q3  \n",
       "76750   135542       400     4000600      -0.733479       2019-Q3  \n",
       "18024   118424       153     1530202      -0.288062       2019-Q3  \n",
       "127738  149179       758     7580200      -0.253086       2019-Q3  \n",
       "\n",
       "[5 rows x 91 columns]"
      ]
     },
     "execution_count": 3,
     "metadata": {},
     "output_type": "execute_result"
    }
   ],
   "source": [
    "df.head()"
   ]
  },
  {
   "cell_type": "markdown",
   "metadata": {},
   "source": [
    "## PCA vs T-SNE"
   ]
  },
  {
   "cell_type": "markdown",
   "metadata": {},
   "source": [
    "### Create visualization function"
   ]
  },
  {
   "cell_type": "code",
   "execution_count": 4,
   "metadata": {},
   "outputs": [],
   "source": [
    "def plot3D(x, clusters, colors, gif_name):\n",
    "  \n",
    "    fig = plt.figure(figsize=(10, 10))\n",
    "    ax = fig.add_subplot(111, projection='3d')\n",
    "    ax.scatter(xs=x[:,0], ys=x[:,1], zs=x[:,2], s=40, c=clusters.map(colors))\n",
    "    ax.axis('off')\n",
    "    ax.axis('tight')\n",
    "    \n",
    "    def rotate(angle):\n",
    "        ax.view_init(azim=angle)\n",
    "\n",
    "    angle = 3\n",
    "    ani = animation.FuncAnimation(fig, rotate, frames=np.arange(0, 360, angle), interval=1000)\n",
    "    ani.save(gif_name, writer=animation.PillowWriter(fps=10))"
   ]
  },
  {
   "cell_type": "markdown",
   "metadata": {},
   "source": [
    "### Prepare data"
   ]
  },
  {
   "cell_type": "code",
   "execution_count": 5,
   "metadata": {},
   "outputs": [],
   "source": [
    "fields = ['id', 'indexed_price', 'build_year', 'use_surface', 'parcel_surface', 'score_totaal_2018', 'number_of_objects',\n",
    "         'huishoudens_met_kinderen', 'gemiddelde_huishoudensgrootte', '0_tot_15', '15_tot_25',\n",
    "         '25_tot_45', '45_tot_65', '65_+', 'omgevingsadressendichtheid', 'koopwoningen',\n",
    "         'build_type', 'energy_label', 'migratieachtergrond', 'elektriciteitsverbruik', 'aardgasverbruik',\n",
    "         'percentage_meergezinswoning', 'oppervlakte_land', 'personenautos_huishouden']\n",
    "cat = ['build_type', 'energy_label']\n",
    "num = [col for col in fields if col not in cat and col != 'id']"
   ]
  },
  {
   "cell_type": "code",
   "execution_count": 6,
   "metadata": {},
   "outputs": [],
   "source": [
    "scalar = StandardScaler()\n",
    "df[num] = scalar.fit_transform(df[num])"
   ]
  },
  {
   "cell_type": "code",
   "execution_count": 7,
   "metadata": {},
   "outputs": [],
   "source": [
    "new_df = df[fields].copy()\n",
    "colors = {0: 'blue', 1: 'red', 2: 'green', 3: 'yellow', 4: 'black'}"
   ]
  },
  {
   "cell_type": "markdown",
   "metadata": {},
   "source": [
    "### Create clusters"
   ]
  },
  {
   "cell_type": "code",
   "execution_count": 20,
   "metadata": {},
   "outputs": [],
   "source": [
    "class Clusters:\n",
    "    def __init__(self, df, categorical, n_clusters):\n",
    "        self.df = df\n",
    "        self.categorical = categorical\n",
    "        self.numerical = [col for col in self.df.columns if col not in self.categorical]\n",
    "        self.n_clusters = n_clusters\n",
    "    \n",
    "    def k_means_func(self):\n",
    "        self.df['clusters'] = KMeans(n_clusters=self.n_clusters).fit(np.array(self.df[self.numerical])).labels_\n",
    "        return self\n",
    "    \n",
    "    def k_prototype_func(self):\n",
    "        self.df = self.df[[*self.categorical, *self.numerical]].dropna()\n",
    "        self.df['clusters'] = KPrototypes(n_clusters=self.n_clusters, init='Cao'). \\\n",
    "            fit_predict(self.df, categorical=list(range(len(self.categorical))))\n",
    "        return self"
   ]
  },
  {
   "cell_type": "code",
   "execution_count": 23,
   "metadata": {},
   "outputs": [],
   "source": [
    "cluster = Clusters(df=new_df, categorical=cat, n_clusters=5)"
   ]
  },
  {
   "cell_type": "markdown",
   "metadata": {},
   "source": [
    "# K-Means"
   ]
  },
  {
   "cell_type": "code",
   "execution_count": 9,
   "metadata": {},
   "outputs": [],
   "source": [
    "new_df = cluster.k_means_func().df"
   ]
  },
  {
   "cell_type": "code",
   "execution_count": 10,
   "metadata": {},
   "outputs": [
    {
     "data": {
      "text/plain": [
       "4    4214\n",
       "1    2567\n",
       "2    1398\n",
       "0    1102\n",
       "3     719\n",
       "Name: clusters, dtype: int64"
      ]
     },
     "execution_count": 10,
     "metadata": {},
     "output_type": "execute_result"
    }
   ],
   "source": [
    "new_df['clusters'].value_counts()"
   ]
  },
  {
   "cell_type": "markdown",
   "metadata": {},
   "source": [
    "### PCA"
   ]
  },
  {
   "cell_type": "code",
   "execution_count": 12,
   "metadata": {},
   "outputs": [],
   "source": [
    "pca = PCA(n_components=3)\n",
    "pca_result = pca.fit_transform(new_df[num])\n",
    "\n",
    "pca_df = pd.DataFrame(columns=['pca1','pca2', 'pca3'])\n",
    "\n",
    "pca_df['pca1'] = pca_result[:,0]\n",
    "pca_df['pca2'] = pca_result[:,1]\n",
    "pca_df['pca3'] = pca_result[:,2]\n",
    "\n",
    "top_two_comp = pca_df[['pca1','pca2', 'pca3']] # taking first and second principal component\n",
    "\n",
    "plot3D(top_two_comp.values, new_df['clusters'], colors, 'pca_kmeans.gif') # Visualizing the PCA output"
   ]
  },
  {
   "cell_type": "markdown",
   "metadata": {},
   "source": [
    "### T-SNE"
   ]
  },
  {
   "cell_type": "code",
   "execution_count": 13,
   "metadata": {},
   "outputs": [],
   "source": [
    "tsne = TSNE(n_components=3).fit_transform(new_df[num])"
   ]
  },
  {
   "cell_type": "code",
   "execution_count": 14,
   "metadata": {},
   "outputs": [],
   "source": [
    "plot3D(tsne, new_df['clusters'], colors, 'tsne_kmeans.gif')\n",
    "plt.show();"
   ]
  },
  {
   "cell_type": "markdown",
   "metadata": {},
   "source": [
    "# K-Prototypes"
   ]
  },
  {
   "cell_type": "code",
   "execution_count": null,
   "metadata": {},
   "outputs": [],
   "source": [
    "new_df = cluster.k_prototype_func().df"
   ]
  },
  {
   "cell_type": "code",
   "execution_count": 10,
   "metadata": {},
   "outputs": [
    {
     "data": {
      "text/plain": [
       "4    4214\n",
       "1    2567\n",
       "2    1398\n",
       "0    1102\n",
       "3     719\n",
       "Name: clusters, dtype: int64"
      ]
     },
     "execution_count": 10,
     "metadata": {},
     "output_type": "execute_result"
    }
   ],
   "source": [
    "new_df['clusters'].value_counts()"
   ]
  },
  {
   "cell_type": "markdown",
   "metadata": {},
   "source": [
    "### PCA"
   ]
  },
  {
   "cell_type": "code",
   "execution_count": 24,
   "metadata": {},
   "outputs": [
    {
     "name": "stdout",
     "output_type": "stream",
     "text": [
      "build_type                       9801\n",
      "energy_label                     9801\n",
      "indexed_price                    9801\n",
      "build_year                       9801\n",
      "use_surface                      9801\n",
      "parcel_surface                   9801\n",
      "score_totaal_2018                9801\n",
      "number_of_objects                9801\n",
      "huishoudens_met_kinderen         9801\n",
      "gemiddelde_huishoudensgrootte    9801\n",
      "0_tot_15                         9801\n",
      "15_tot_25                        9801\n",
      "25_tot_45                        9801\n",
      "45_tot_65                        9801\n",
      "65_+                             9801\n",
      "omgevingsadressendichtheid       9801\n",
      "koopwoningen                     9801\n",
      "migratieachtergrond              9801\n",
      "elektriciteitsverbruik           9801\n",
      "aardgasverbruik                  9801\n",
      "percentage_meergezinswoning      9801\n",
      "oppervlakte_land                 9801\n",
      "personenautos_huishouden         9801\n",
      "clusters                         9801\n",
      "dtype: int64\n"
     ]
    }
   ],
   "source": [
    "pca = PCA(n_components=3)\n",
    "pca_result = pca.fit_transform(new_df[num])\n",
    "\n",
    "pca_df = pd.DataFrame(columns=['pca1','pca2', 'pca3'])\n",
    "\n",
    "pca_df['pca1'] = pca_result[:,0]\n",
    "pca_df['pca2'] = pca_result[:,1]\n",
    "pca_df['pca3'] = pca_result[:,2]\n",
    "\n",
    "top_two_comp = pca_df[['pca1','pca2', 'pca3']] # taking first and second principal component\n",
    "\n",
    "plot3D(top_two_comp.values, new_df['clusters'], colors, 'pca_kprototype.gif') # Visualizing the PCA output"
   ]
  },
  {
   "cell_type": "markdown",
   "metadata": {},
   "source": [
    "## T-SNE"
   ]
  },
  {
   "cell_type": "code",
   "execution_count": 25,
   "metadata": {},
   "outputs": [],
   "source": [
    "tsne = TSNE(n_components=3).fit_transform(new_df[num])"
   ]
  },
  {
   "cell_type": "code",
   "execution_count": 26,
   "metadata": {},
   "outputs": [],
   "source": [
    "plot3D(tsne, new_df['clusters'], colors, 'tsne_kprototype.gif')\n",
    "plt.show();"
   ]
  }
 ],
 "metadata": {
  "kernelspec": {
   "display_name": "Python 3",
   "language": "python",
   "name": "python3"
  },
  "language_info": {
   "codemirror_mode": {
    "name": "ipython",
    "version": 3
   },
   "file_extension": ".py",
   "mimetype": "text/x-python",
   "name": "python",
   "nbconvert_exporter": "python",
   "pygments_lexer": "ipython3",
   "version": "3.7.3"
  }
 },
 "nbformat": 4,
 "nbformat_minor": 2
}
